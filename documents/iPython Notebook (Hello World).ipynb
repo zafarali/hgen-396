{
 "metadata": {
  "name": "",
  "signature": "sha256:9cd6ba2b59fc863b181c6c042758415246b3fc3aff27a0484df8e04d59b90d0b"
 },
 "nbformat": 3,
 "nbformat_minor": 0,
 "worksheets": [
  {
   "cells": [
    {
     "cell_type": "heading",
     "level": 2,
     "metadata": {},
     "source": [
      "Hello World"
     ]
    },
    {
     "cell_type": "markdown",
     "metadata": {},
     "source": [
      "This is Zaf working with iPython Notebook for the first time, this stuff is incredible! I can log all my stuff on this amazing piece of work. Wow!\n",
      "\n",
      "I can even write equations:"
     ]
    },
    {
     "cell_type": "markdown",
     "metadata": {},
     "source": [
      "\\begin{equation}\n",
      "\\sum_{n=1}^{\\infty} x^n = \\frac{1}{1-x}\n",
      "\\end{equation}"
     ]
    },
    {
     "cell_type": "code",
     "collapsed": false,
     "input": [],
     "language": "python",
     "metadata": {},
     "outputs": [],
     "prompt_number": 3
    },
    {
     "cell_type": "code",
     "collapsed": false,
     "input": [],
     "language": "python",
     "metadata": {},
     "outputs": []
    }
   ],
   "metadata": {}
  }
 ]
}